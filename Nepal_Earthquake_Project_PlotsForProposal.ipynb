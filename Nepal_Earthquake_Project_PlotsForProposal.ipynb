{
 "cells": [
  {
   "cell_type": "code",
   "execution_count": 1,
   "metadata": {
    "scrolled": true
   },
   "outputs": [
    {
     "data": {
      "text/html": [
       "<div>\n",
       "<style scoped>\n",
       "    .dataframe tbody tr th:only-of-type {\n",
       "        vertical-align: middle;\n",
       "    }\n",
       "\n",
       "    .dataframe tbody tr th {\n",
       "        vertical-align: top;\n",
       "    }\n",
       "\n",
       "    .dataframe thead th {\n",
       "        text-align: right;\n",
       "    }\n",
       "</style>\n",
       "<table border=\"1\" class=\"dataframe\">\n",
       "  <thead>\n",
       "    <tr style=\"text-align: right;\">\n",
       "      <th></th>\n",
       "      <th>building_id</th>\n",
       "      <th>district_id</th>\n",
       "      <th>vdcmun_id</th>\n",
       "      <th>ward_id</th>\n",
       "      <th>count_floors_pre_eq</th>\n",
       "      <th>count_floors_post_eq</th>\n",
       "      <th>age_building</th>\n",
       "      <th>plinth_area_sq_ft</th>\n",
       "      <th>height_ft_pre_eq</th>\n",
       "      <th>height_ft_post_eq</th>\n",
       "      <th>...</th>\n",
       "      <th>has_superstructure_mud_mortar_brick</th>\n",
       "      <th>has_superstructure_cement_mortar_brick</th>\n",
       "      <th>has_superstructure_timber</th>\n",
       "      <th>has_superstructure_bamboo</th>\n",
       "      <th>has_superstructure_rc_non_engineered</th>\n",
       "      <th>has_superstructure_rc_engineered</th>\n",
       "      <th>has_superstructure_other</th>\n",
       "      <th>condition_post_eq</th>\n",
       "      <th>damage_grade</th>\n",
       "      <th>technical_solution_proposed</th>\n",
       "    </tr>\n",
       "  </thead>\n",
       "  <tbody>\n",
       "    <tr>\n",
       "      <th>0</th>\n",
       "      <td>70102000011</td>\n",
       "      <td>7</td>\n",
       "      <td>701</td>\n",
       "      <td>70102</td>\n",
       "      <td>1</td>\n",
       "      <td>1</td>\n",
       "      <td>28</td>\n",
       "      <td>454</td>\n",
       "      <td>9</td>\n",
       "      <td>9</td>\n",
       "      <td>...</td>\n",
       "      <td>0</td>\n",
       "      <td>0</td>\n",
       "      <td>1</td>\n",
       "      <td>1</td>\n",
       "      <td>0</td>\n",
       "      <td>0</td>\n",
       "      <td>1</td>\n",
       "      <td>Damaged-Repaired and used</td>\n",
       "      <td>Grade 2</td>\n",
       "      <td>Minor repair</td>\n",
       "    </tr>\n",
       "    <tr>\n",
       "      <th>1</th>\n",
       "      <td>70102000021</td>\n",
       "      <td>7</td>\n",
       "      <td>701</td>\n",
       "      <td>70102</td>\n",
       "      <td>1</td>\n",
       "      <td>1</td>\n",
       "      <td>32</td>\n",
       "      <td>324</td>\n",
       "      <td>9</td>\n",
       "      <td>9</td>\n",
       "      <td>...</td>\n",
       "      <td>0</td>\n",
       "      <td>0</td>\n",
       "      <td>1</td>\n",
       "      <td>1</td>\n",
       "      <td>0</td>\n",
       "      <td>0</td>\n",
       "      <td>1</td>\n",
       "      <td>Damaged-Repaired and used</td>\n",
       "      <td>Grade 2</td>\n",
       "      <td>Minor repair</td>\n",
       "    </tr>\n",
       "    <tr>\n",
       "      <th>2</th>\n",
       "      <td>70102000031</td>\n",
       "      <td>7</td>\n",
       "      <td>701</td>\n",
       "      <td>70102</td>\n",
       "      <td>2</td>\n",
       "      <td>2</td>\n",
       "      <td>34</td>\n",
       "      <td>456</td>\n",
       "      <td>18</td>\n",
       "      <td>18</td>\n",
       "      <td>...</td>\n",
       "      <td>0</td>\n",
       "      <td>0</td>\n",
       "      <td>1</td>\n",
       "      <td>1</td>\n",
       "      <td>0</td>\n",
       "      <td>0</td>\n",
       "      <td>1</td>\n",
       "      <td>Damaged-Repaired and used</td>\n",
       "      <td>Grade 3</td>\n",
       "      <td>Major repair</td>\n",
       "    </tr>\n",
       "    <tr>\n",
       "      <th>3</th>\n",
       "      <td>70103000011</td>\n",
       "      <td>7</td>\n",
       "      <td>701</td>\n",
       "      <td>70103</td>\n",
       "      <td>2</td>\n",
       "      <td>2</td>\n",
       "      <td>20</td>\n",
       "      <td>452</td>\n",
       "      <td>18</td>\n",
       "      <td>18</td>\n",
       "      <td>...</td>\n",
       "      <td>0</td>\n",
       "      <td>0</td>\n",
       "      <td>1</td>\n",
       "      <td>1</td>\n",
       "      <td>0</td>\n",
       "      <td>0</td>\n",
       "      <td>1</td>\n",
       "      <td>Damaged-Repaired and used</td>\n",
       "      <td>Grade 3</td>\n",
       "      <td>Major repair</td>\n",
       "    </tr>\n",
       "    <tr>\n",
       "      <th>4</th>\n",
       "      <td>70103000021</td>\n",
       "      <td>7</td>\n",
       "      <td>701</td>\n",
       "      <td>70103</td>\n",
       "      <td>1</td>\n",
       "      <td>0</td>\n",
       "      <td>25</td>\n",
       "      <td>542</td>\n",
       "      <td>9</td>\n",
       "      <td>0</td>\n",
       "      <td>...</td>\n",
       "      <td>0</td>\n",
       "      <td>0</td>\n",
       "      <td>1</td>\n",
       "      <td>1</td>\n",
       "      <td>0</td>\n",
       "      <td>0</td>\n",
       "      <td>1</td>\n",
       "      <td>Damaged-Rubble unclear</td>\n",
       "      <td>Grade 5</td>\n",
       "      <td>Reconstruction</td>\n",
       "    </tr>\n",
       "  </tbody>\n",
       "</table>\n",
       "<p>5 rows × 31 columns</p>\n",
       "</div>"
      ],
      "text/plain": [
       "   building_id  district_id  vdcmun_id  ward_id  count_floors_pre_eq  \\\n",
       "0  70102000011            7        701    70102                    1   \n",
       "1  70102000021            7        701    70102                    1   \n",
       "2  70102000031            7        701    70102                    2   \n",
       "3  70103000011            7        701    70103                    2   \n",
       "4  70103000021            7        701    70103                    1   \n",
       "\n",
       "   count_floors_post_eq  age_building  plinth_area_sq_ft  height_ft_pre_eq  \\\n",
       "0                     1            28                454                 9   \n",
       "1                     1            32                324                 9   \n",
       "2                     2            34                456                18   \n",
       "3                     2            20                452                18   \n",
       "4                     0            25                542                 9   \n",
       "\n",
       "   height_ft_post_eq             ...               \\\n",
       "0                  9             ...                \n",
       "1                  9             ...                \n",
       "2                 18             ...                \n",
       "3                 18             ...                \n",
       "4                  0             ...                \n",
       "\n",
       "  has_superstructure_mud_mortar_brick has_superstructure_cement_mortar_brick  \\\n",
       "0                                   0                                      0   \n",
       "1                                   0                                      0   \n",
       "2                                   0                                      0   \n",
       "3                                   0                                      0   \n",
       "4                                   0                                      0   \n",
       "\n",
       "  has_superstructure_timber has_superstructure_bamboo  \\\n",
       "0                         1                         1   \n",
       "1                         1                         1   \n",
       "2                         1                         1   \n",
       "3                         1                         1   \n",
       "4                         1                         1   \n",
       "\n",
       "  has_superstructure_rc_non_engineered has_superstructure_rc_engineered  \\\n",
       "0                                    0                                0   \n",
       "1                                    0                                0   \n",
       "2                                    0                                0   \n",
       "3                                    0                                0   \n",
       "4                                    0                                0   \n",
       "\n",
       "  has_superstructure_other          condition_post_eq  damage_grade  \\\n",
       "0                        1  Damaged-Repaired and used       Grade 2   \n",
       "1                        1  Damaged-Repaired and used       Grade 2   \n",
       "2                        1  Damaged-Repaired and used       Grade 3   \n",
       "3                        1  Damaged-Repaired and used       Grade 3   \n",
       "4                        1     Damaged-Rubble unclear       Grade 5   \n",
       "\n",
       "   technical_solution_proposed  \n",
       "0                 Minor repair  \n",
       "1                 Minor repair  \n",
       "2                 Major repair  \n",
       "3                 Major repair  \n",
       "4               Reconstruction  \n",
       "\n",
       "[5 rows x 31 columns]"
      ]
     },
     "execution_count": 1,
     "metadata": {},
     "output_type": "execute_result"
    }
   ],
   "source": [
    "import numpy as np\n",
    "import pandas as pd\n",
    "import matplotlib.pyplot as plt\n",
    "structure = pd.read_csv(\"/Yang Deng/Study_Work/Work/Resume/2017-2018/Data Scientist/Data Incubator/building_damage_assessment/csv_building_structure.csv\")\n",
    "structure.head()"
   ]
  },
  {
   "cell_type": "code",
   "execution_count": 8,
   "metadata": {},
   "outputs": [
    {
     "data": {
      "text/html": [
       "<div>\n",
       "<style scoped>\n",
       "    .dataframe tbody tr th:only-of-type {\n",
       "        vertical-align: middle;\n",
       "    }\n",
       "\n",
       "    .dataframe tbody tr th {\n",
       "        vertical-align: top;\n",
       "    }\n",
       "\n",
       "    .dataframe thead th {\n",
       "        text-align: right;\n",
       "    }\n",
       "</style>\n",
       "<table border=\"1\" class=\"dataframe\">\n",
       "  <thead>\n",
       "    <tr style=\"text-align: right;\">\n",
       "      <th></th>\n",
       "      <th>damage_grade</th>\n",
       "      <th>counts</th>\n",
       "    </tr>\n",
       "  </thead>\n",
       "  <tbody>\n",
       "    <tr>\n",
       "      <th>0</th>\n",
       "      <td>Grade 1</td>\n",
       "      <td>101818</td>\n",
       "    </tr>\n",
       "    <tr>\n",
       "      <th>1</th>\n",
       "      <td>Grade 2</td>\n",
       "      <td>141996</td>\n",
       "    </tr>\n",
       "    <tr>\n",
       "      <th>2</th>\n",
       "      <td>Grade 3</td>\n",
       "      <td>204179</td>\n",
       "    </tr>\n",
       "    <tr>\n",
       "      <th>3</th>\n",
       "      <td>Grade 4</td>\n",
       "      <td>253135</td>\n",
       "    </tr>\n",
       "    <tr>\n",
       "      <th>4</th>\n",
       "      <td>Grade 5</td>\n",
       "      <td>351808</td>\n",
       "    </tr>\n",
       "  </tbody>\n",
       "</table>\n",
       "</div>"
      ],
      "text/plain": [
       "  damage_grade  counts\n",
       "0      Grade 1  101818\n",
       "1      Grade 2  141996\n",
       "2      Grade 3  204179\n",
       "3      Grade 4  253135\n",
       "4      Grade 5  351808"
      ]
     },
     "execution_count": 8,
     "metadata": {},
     "output_type": "execute_result"
    }
   ],
   "source": [
    "# Examine damage_grades in the structure data set:\n",
    "structure.damage_grade.unique()\n",
    "damage_grades = structure.groupby(['damage_grade']).size().reset_index(name='counts')\n",
    "# Found out that there are 12 records out of 1052948 records that damage_grade is unknown. \n",
    "# For simplicity I simply put them into Grade 1. "
   ]
  },
  {
   "cell_type": "code",
   "execution_count": 10,
   "metadata": {},
   "outputs": [
    {
     "data": {
      "text/plain": [
       "array(['Grade 2', 'Grade 3', 'Grade 5', 'Grade 4', 'Grade 1', nan],\n",
       "      dtype=object)"
      ]
     },
     "execution_count": 10,
     "metadata": {},
     "output_type": "execute_result"
    }
   ],
   "source": [
    "structure.damage_grade.unique()"
   ]
  },
  {
   "cell_type": "code",
   "execution_count": 109,
   "metadata": {},
   "outputs": [
    {
     "data": {
      "text/plain": [
       "array(['Grade 2', 'Grade 3', 'Grade 5', 'Grade 4', 'Grade 1', nan],\n",
       "      dtype=object)"
      ]
     },
     "execution_count": 109,
     "metadata": {},
     "output_type": "execute_result"
    }
   ],
   "source": [
    "data = structure[['district_id','count_floors_pre_eq', 'count_floors_post_eq','age_building','plinth_area_sq_ft','height_ft_pre_eq','height_ft_post_eq','damage_grade']]\n",
    "data.damage_grade.unique()"
   ]
  },
  {
   "cell_type": "code",
   "execution_count": 118,
   "metadata": {},
   "outputs": [
    {
     "name": "stderr",
     "output_type": "stream",
     "text": [
      "/Users/yangdeng/anaconda3/lib/python3.6/site-packages/ipykernel_launcher.py:13: SettingWithCopyWarning: \n",
      "A value is trying to be set on a copy of a slice from a DataFrame.\n",
      "Try using .loc[row_indexer,col_indexer] = value instead\n",
      "\n",
      "See the caveats in the documentation: http://pandas.pydata.org/pandas-docs/stable/indexing.html#indexing-view-versus-copy\n",
      "  del sys.path[0]\n"
     ]
    }
   ],
   "source": [
    "def convertDamageGrade(data):\n",
    "    if data['damage_grade']== 'Grade 1'or data['damage_grade'] == np.nan:\n",
    "        return 1\n",
    "    elif data['damage_grade'] == 'Grade 2':\n",
    "        return 2\n",
    "    elif data['damage_grade'] == 'Grade 3':\n",
    "        return 3\n",
    "    elif data['damage_grade'] == 'Grade 4':\n",
    "        return 4\n",
    "    else: \n",
    "        return 5\n",
    "    \n",
    "data['damage_grade_num'] = data.apply(convertDamageGrade, axis=1)"
   ]
  },
  {
   "cell_type": "code",
   "execution_count": 67,
   "metadata": {},
   "outputs": [
    {
     "data": {
      "image/png": "[encoded data removed]",
      "text/plain": [
       "<matplotlib.figure.Figure at 0x10cd6a160>"
      ]
     },
     "metadata": {},
     "output_type": "display_data"
    }
   ],
   "source": [
    "#Found there is a value 999 for age_building, which should mean very high\n",
    "data1 = data.loc[data['age_building'] < 999]\n",
    "y1 = data1['damage_grade_num']\n",
    "x1 = data1['age_building']\n",
    "\n",
    "m,b = np.polyfit(x1,y1,1)\n",
    "\n",
    "plt.plot(x1, y1, 'bo', label = \"Scatter Plot\")\n",
    "plt.plot(x1, m*x1+b, '--k', label = \"Linear Regression Fit\") \n",
    "plt.legend(loc='upper left')\n",
    "plt.xlabel(\"age of building\")\n",
    "plt.ylabel(\"damage grade\")\n",
    "plt.show()\n",
    "\n",
    "## The 1st Plot"
   ]
  },
  {
   "cell_type": "code",
   "execution_count": 68,
   "metadata": {},
   "outputs": [
    {
     "data": {
      "image/png": "[encoded data removed]",
      "text/plain": [
       "<matplotlib.figure.Figure at 0x10cce28d0>"
      ]
     },
     "metadata": {},
     "output_type": "display_data"
    }
   ],
   "source": [
    "# Found there are outliers for height_ft_pre_eq, which should mean that the building is very high or just a mistak\n",
    "#data['height_ft_pre_eq'].unique() show shat these ourliers are buildings taller than 200 feet\n",
    "data2 = data.loc[data['height_ft_pre_eq'] < 200]\n",
    "data2['height_ft_pre_eq'].unique()\n",
    "y2 = data2['damage_grade_num']\n",
    "x2 =data2['height_ft_pre_eq']\n",
    "m,b = np.polyfit(x2,y2,1)\n",
    "\n",
    "plt.plot(x2, y2, 'go', label = \"Scatter Plot\")\n",
    "plt.plot(x2, m*x2+b, '--k', label = \"Linear Regression Fit\") \n",
    "plt.legend(loc='upper left')\n",
    "plt.xlabel(\"height in feet before earthquake\")\n",
    "plt.ylabel(\"damage grade\")\n",
    "plt.show()"
   ]
  },
  {
   "cell_type": "code",
   "execution_count": 70,
   "metadata": {},
   "outputs": [
    {
     "data": {
      "text/plain": [
       "array([ 7,  9, 10, 11, 13, 35, 37, 38, 39, 40, 43, 44, 45, 46, 47, 48, 51,\n",
       "       26, 27, 25, 12, 20, 21, 22, 23, 24, 28, 29, 30, 31, 36])"
      ]
     },
     "execution_count": 70,
     "metadata": {},
     "output_type": "execute_result"
    }
   ],
   "source": [
    "data['district_id'].unique()"
   ]
  },
  {
   "cell_type": "code",
   "execution_count": 108,
   "metadata": {},
   "outputs": [
    {
     "data": {
      "image/png": "[encoded data removed]",
      "text/plain": [
       "<matplotlib.figure.Figure at 0x125703fd0>"
      ]
     },
     "metadata": {},
     "output_type": "display_data"
    }
   ],
   "source": [
    "#seperate data into different districts and see the distributions of damage grade within each district\n",
    "district7 = data.loc[data['district_id'] == 7]\n",
    "district35 = data.loc[data['district_id'] == 35]\n",
    "district20 = data.loc[data['district_id'] == 20]\n",
    "district44= data.loc[data['district_id'] == 44]\n",
    "\n",
    "district7.groupby(['damage_grade_num']).size()\n",
    "\n",
    "def damageGradeCounts(data):\n",
    "    l1, l2 = len(data.loc[data['damage_grade_num'] == 1]), len(data.loc[data['damage_grade_num'] == 2])\n",
    "    l3, l4 = len(data.loc[data['damage_grade_num'] == 3]), len(data.loc[data['damage_grade_num'] == 4])\n",
    "    l5, size = len(data.loc[data['damage_grade_num'] == 5]), len(data)\n",
    "    return [l1/size,l2/size,l3/size,l4/size,l5/size]\n",
    "y7 = damageGradeCounts(district7)\n",
    "y20 =damageGradeCounts(district20)\n",
    "y35 =damageGradeCounts(district35)\n",
    "y44 =damageGradeCounts(district44)\n",
    "\n",
    "x = np.array([1,2,3,4,5])\n",
    "ax = plt.subplot(111)\n",
    "ax.bar(x-0.4, y7,width=0.2,color='b',align='center', label = \"district id = 7\")\n",
    "ax.bar(x-0.2, y20,width=0.2,color='g',align='center', label = \"district id = 20\")\n",
    "ax.bar(x, y35,width=0.2,color='r',align='center', label = \"district id = 35\")\n",
    "ax.bar(x+0.2, y44,width=0.2,color='y',align='center', label = \"district id = 44\")\n",
    "plt.legend(loc='upper right')\n",
    "plt.show()\n",
    "\n",
    "## The 2nd plot"
   ]
  }
 ],
 "metadata": {
  "kernelspec": {
   "display_name": "Python 3",
   "language": "python",
   "name": "python3"
  },
  "language_info": {
   "codemirror_mode": {
    "name": "ipython",
    "version": 3
   },
   "file_extension": ".py",
   "mimetype": "text/x-python",
   "name": "python",
   "nbconvert_exporter": "python",
   "pygments_lexer": "ipython3",
   "version": "3.6.4"
  }
 },
 "nbformat": 4,
 "nbformat_minor": 2
}
